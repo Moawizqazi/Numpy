{
 "cells": [
  {
   "cell_type": "code",
   "execution_count": 1,
   "id": "d1d1f674",
   "metadata": {},
   "outputs": [],
   "source": [
    "import numpy as np"
   ]
  },
  {
   "cell_type": "markdown",
   "id": "3da1837b",
   "metadata": {},
   "source": [
    "# Difference B/W Array and List\n",
    "### Numpy array is faster tham python list\n"
   ]
  },
  {
   "cell_type": "code",
   "execution_count": 4,
   "id": "dfaeccb9",
   "metadata": {},
   "outputs": [
    {
     "name": "stdout",
     "output_type": "stream",
     "text": [
      "[1 2 3 4]\n",
      "<class 'numpy.ndarray'>\n"
     ]
    }
   ],
   "source": [
    "# Array\n",
    "x=np.array([1,2,3,4])\n",
    "print(x)\n",
    "print(type(x))"
   ]
  },
  {
   "cell_type": "code",
   "execution_count": 5,
   "id": "95694ec1",
   "metadata": {},
   "outputs": [
    {
     "name": "stdout",
     "output_type": "stream",
     "text": [
      "[1, 2, 3, 4]\n",
      "<class 'list'>\n"
     ]
    }
   ],
   "source": [
    "# List\n",
    "y = [1,2,3,4]\n",
    "print(y)\n",
    "print(type(y))\n"
   ]
  },
  {
   "cell_type": "code",
   "execution_count": 6,
   "id": "ced0ca04",
   "metadata": {},
   "outputs": [
    {
     "name": "stdout",
     "output_type": "stream",
     "text": [
      "2.5 µs ± 46.1 ns per loop (mean ± std. dev. of 7 runs, 100,000 loops each)\n"
     ]
    }
   ],
   "source": [
    "%timeit [j**4 for j in range(1,9)]  #it is used  for single line\n"
   ]
  },
  {
   "cell_type": "code",
   "execution_count": 8,
   "id": "1113bcea",
   "metadata": {},
   "outputs": [
    {
     "name": "stdout",
     "output_type": "stream",
     "text": [
      "2 µs ± 27 ns per loop (mean ± std. dev. of 7 runs, 1,000,000 loops each)\n"
     ]
    }
   ],
   "source": [
    "%timeit np.arange(1,9)**4  #it is used  for single line"
   ]
  },
  {
   "cell_type": "markdown",
   "id": "930fcd5e",
   "metadata": {},
   "source": [
    "# Create numpy array and multidimenssion array\n",
    "### Number of square bracket represent the dimenssion\n",
    " [1 2 3 4] 1 dimenssion,\n",
    " [[1 2 3 4]] 2 dimenssion,\n",
    " [[[1 2 3 4]]] 3 dimenssion"
   ]
  },
  {
   "cell_type": "code",
   "execution_count": 10,
   "id": "f3470a21",
   "metadata": {},
   "outputs": [
    {
     "name": "stdout",
     "output_type": "stream",
     "text": [
      "[1 2 3 4 5 6]\n"
     ]
    },
    {
     "data": {
      "text/plain": [
       "array([1, 2, 3, 4, 5, 6])"
      ]
     },
     "execution_count": 10,
     "metadata": {},
     "output_type": "execute_result"
    }
   ],
   "source": [
    "x=[1,2,3,4,5,6]\n",
    "y= np.array(x)\n",
    "print(y)\n",
    "y"
   ]
  },
  {
   "cell_type": "code",
   "execution_count": 15,
   "id": "467f4580",
   "metadata": {},
   "outputs": [
    {
     "name": "stdout",
     "output_type": "stream",
     "text": [
      "Enter :11\n",
      "Enter :12\n",
      "Enter :3\n",
      "Enter :14\n",
      "Enter :15\n",
      "[11 12  3 14 15]\n",
      "1\n"
     ]
    }
   ],
   "source": [
    "l=[]\n",
    "\n",
    "for i in range(1,6):\n",
    "    int_h = int(input(\"Enter :\"))\n",
    "    l.append(int_h)\n",
    "    \n",
    "print(np.array(l))\n",
    "np.array(l)\n",
    "print(y.ndim) # varriable.ndim it will return the dimmension of array"
   ]
  },
  {
   "cell_type": "markdown",
   "id": "71e96859",
   "metadata": {},
   "source": [
    "# 2Dimmension"
   ]
  },
  {
   "cell_type": "code",
   "execution_count": 19,
   "id": "644a38f9",
   "metadata": {},
   "outputs": [
    {
     "name": "stdout",
     "output_type": "stream",
     "text": [
      "[[1 2 3 4]\n",
      " [1 2 3 4]]\n",
      "2\n"
     ]
    }
   ],
   "source": [
    "n = np.array([[1,2,3,4],[1,2,3,4]]) # no of data always equal in both brackets\n",
    "print(n)\n",
    "print(n.ndim)"
   ]
  },
  {
   "cell_type": "markdown",
   "id": "23dd02e7",
   "metadata": {},
   "source": [
    "# 3 Dimenssion"
   ]
  },
  {
   "cell_type": "code",
   "execution_count": 21,
   "id": "cd4a265d",
   "metadata": {},
   "outputs": [
    {
     "name": "stdout",
     "output_type": "stream",
     "text": [
      "[[[1 2 3 4]\n",
      "  [1 2 3 4]\n",
      "  [1 2 3 4]]]\n",
      "3\n"
     ]
    }
   ],
   "source": [
    "n = np.array([[[1,2,3,4],[1,2,3,4],[1,2,3,4]]]) # no of data always equal in both brackets\n",
    "print(n)\n",
    "print(n.ndim)"
   ]
  },
  {
   "cell_type": "markdown",
   "id": "0cd7b6e4",
   "metadata": {},
   "source": [
    "# Multidimenssion Array"
   ]
  },
  {
   "cell_type": "code",
   "execution_count": 23,
   "id": "4be0be81",
   "metadata": {},
   "outputs": [
    {
     "name": "stdout",
     "output_type": "stream",
     "text": [
      "[[[[[[[[[[1 2 3 4 5]]]]]]]]]]\n",
      "10\n"
     ]
    }
   ],
   "source": [
    "n  = np.array([1,2,3,4,5], ndmin = 10) # n.dmin and pass your required no.of array. it will create multidimenssion array\n",
    "print(n)\n",
    "print(n.ndim)"
   ]
  },
  {
   "cell_type": "markdown",
   "id": "1f3e8161",
   "metadata": {},
   "source": [
    "# Zeros Array Element"
   ]
  },
  {
   "cell_type": "code",
   "execution_count": 37,
   "id": "f0026a3e",
   "metadata": {},
   "outputs": [
    {
     "name": "stdout",
     "output_type": "stream",
     "text": [
      "[0. 0. 0. 0.]\n",
      "\n",
      "[[0. 0. 0. 0.]\n",
      " [0. 0. 0. 0.]\n",
      " [0. 0. 0. 0.]\n",
      " [0. 0. 0. 0.]]\n"
     ]
    }
   ],
   "source": [
    "n = np.zeros(4) #print 4 element array\n",
    "m = np.zeros((,4))#print 3 x 4 array\n",
    "\n",
    "print(n)\n",
    "print()\n",
    "print(m)"
   ]
  },
  {
   "cell_type": "markdown",
   "id": "ae271341",
   "metadata": {},
   "source": [
    "# Ones Array"
   ]
  },
  {
   "cell_type": "code",
   "execution_count": 28,
   "id": "a90aa8c1",
   "metadata": {},
   "outputs": [
    {
     "name": "stdout",
     "output_type": "stream",
     "text": [
      "[1. 1. 1. 1. 1.]\n"
     ]
    }
   ],
   "source": [
    "a = np.ones(5)\n",
    "print(a)"
   ]
  },
  {
   "cell_type": "code",
   "execution_count": 40,
   "id": "7bc24483",
   "metadata": {},
   "outputs": [
    {
     "data": {
      "text/plain": [
       "array([[1., 1., 1., 1.],\n",
       "       [1., 1., 1., 1.],\n",
       "       [1., 1., 1., 1.],\n",
       "       [1., 1., 1., 1.]])"
      ]
     },
     "execution_count": 40,
     "metadata": {},
     "output_type": "execute_result"
    }
   ],
   "source": [
    "data = np.ones_like(m)\n",
    "data\n"
   ]
  },
  {
   "cell_type": "markdown",
   "id": "8661152b",
   "metadata": {},
   "source": [
    "# Empty Array"
   ]
  },
  {
   "cell_type": "code",
   "execution_count": 29,
   "id": "7bf7fda6",
   "metadata": {},
   "outputs": [
    {
     "name": "stdout",
     "output_type": "stream",
     "text": [
      "[0. 0. 0. 0.]\n"
     ]
    }
   ],
   "source": [
    "ar_em = np.empty(4)\n",
    "print(ar_em)"
   ]
  },
  {
   "cell_type": "markdown",
   "id": "03fcecd8",
   "metadata": {},
   "source": [
    "# Digonal "
   ]
  },
  {
   "cell_type": "code",
   "execution_count": 31,
   "id": "a542e54c",
   "metadata": {},
   "outputs": [
    {
     "name": "stdout",
     "output_type": "stream",
     "text": [
      "[[1. 0. 0.]\n",
      " [0. 1. 0.]\n",
      " [0. 0. 1.]]\n"
     ]
    }
   ],
   "source": [
    "ar_dia = np.eye((3))\n",
    "print(ar_dia)"
   ]
  },
  {
   "cell_type": "markdown",
   "id": "428cadb6",
   "metadata": {},
   "source": [
    "# linspace"
   ]
  },
  {
   "cell_type": "code",
   "execution_count": 36,
   "id": "7bc88c18",
   "metadata": {},
   "outputs": [
    {
     "name": "stdout",
     "output_type": "stream",
     "text": [
      "[ 0.    1.25  2.5   3.75  5.    6.25  7.5   8.75 10.  ]\n"
     ]
    }
   ],
   "source": [
    "ar_lin = np.linspace(0,10 ,num =9) #it will create equal number of space betwwen the number\n",
    "print(ar_lin)"
   ]
  },
  {
   "cell_type": "code",
   "execution_count": 37,
   "id": "d405e002",
   "metadata": {},
   "outputs": [
    {
     "name": "stdout",
     "output_type": "stream",
     "text": [
      "[ 0.  12.5 25.  37.5 50. ]\n"
     ]
    }
   ],
   "source": [
    "ar_lin = np.linspace(0,50 ,num =5) #it will create equal number of space betwwen the number\n",
    "print(ar_lin)"
   ]
  },
  {
   "cell_type": "markdown",
   "id": "ad0f0eff",
   "metadata": {},
   "source": [
    "# Random Number Array"
   ]
  },
  {
   "cell_type": "markdown",
   "id": "5a6c57e2",
   "metadata": {},
   "source": [
    "## Rand() it will create an array between 0 and 1"
   ]
  },
  {
   "cell_type": "code",
   "execution_count": 4,
   "id": "efc287c3",
   "metadata": {},
   "outputs": [
    {
     "name": "stdout",
     "output_type": "stream",
     "text": [
      "[0.04010165 0.4901851  0.48292363 0.17420977]\n"
     ]
    }
   ],
   "source": [
    "var = np.random.rand(4)\n",
    "print(var)"
   ]
  },
  {
   "cell_type": "code",
   "execution_count": 6,
   "id": "2b45dd87",
   "metadata": {},
   "outputs": [
    {
     "name": "stdout",
     "output_type": "stream",
     "text": [
      "[[0.28609677 0.69950217 0.21814118 0.14068512 0.64059297 0.59834133]\n",
      " [0.69270125 0.43374175 0.71035068 0.67123287 0.0619669  0.41851636]\n",
      " [0.86884582 0.826873   0.58898304 0.53848537 0.60902421 0.676657  ]]\n"
     ]
    }
   ],
   "source": [
    "var1 = np.random.rand(3,6) #it will create 3 x 6(3 rows and 6 columns) array and number between 0 and 1\n",
    "print(var1)"
   ]
  },
  {
   "cell_type": "markdown",
   "id": "5c082c58",
   "metadata": {},
   "source": [
    "# Randn() it will generate a number near to Zero number may be positive or negative"
   ]
  },
  {
   "cell_type": "code",
   "execution_count": 7,
   "id": "435ab9d7",
   "metadata": {},
   "outputs": [
    {
     "name": "stdout",
     "output_type": "stream",
     "text": [
      "[ 0.71650116  0.79203643 -1.66591025  0.2572156   1.32643648]\n"
     ]
    }
   ],
   "source": [
    "var2 =  np.random.randn(5)\n",
    "print(var2)"
   ]
  },
  {
   "cell_type": "markdown",
   "id": "183cc2c7",
   "metadata": {},
   "source": [
    "## Ranf() it will generate an array may be start from zero but always less than 0ne.one is not include like [ o.o,   1)"
   ]
  },
  {
   "cell_type": "code",
   "execution_count": 10,
   "id": "7b2544f9",
   "metadata": {},
   "outputs": [
    {
     "name": "stdout",
     "output_type": "stream",
     "text": [
      "[0.59029527 0.20440395 0.51834029 0.38944399 0.60794368]\n"
     ]
    }
   ],
   "source": [
    "var3 = np.random.ranf(5) #in above heading square bracket shows that array start from 0 and circle bracket shows that one is not include.\n",
    "print(var3)"
   ]
  },
  {
   "cell_type": "markdown",
   "id": "f72f3943",
   "metadata": {},
   "source": [
    "## Randint() it will generate an array of random number we decleare a range"
   ]
  },
  {
   "cell_type": "code",
   "execution_count": 12,
   "id": "a7d28f33",
   "metadata": {},
   "outputs": [
    {
     "name": "stdout",
     "output_type": "stream",
     "text": [
      "[17 19 19 13 14  9 13 15]\n"
     ]
    }
   ],
   "source": [
    "var4 = np.random.randint( 5, 20 ,8) # randint(min value, max value , total number of values to generate)\n",
    "print(var4)"
   ]
  },
  {
   "cell_type": "markdown",
   "id": "81ee1c52",
   "metadata": {},
   "source": [
    "# Data Type in numpy"
   ]
  },
  {
   "cell_type": "code",
   "execution_count": 14,
   "id": "c0275550",
   "metadata": {},
   "outputs": [
    {
     "name": "stdout",
     "output_type": "stream",
     "text": [
      "Data Type :  int32\n"
     ]
    }
   ],
   "source": [
    "v1 = np.array([1,2,3,4,5,67])\n",
    "\n",
    "print(\"Data Type : \" , v1.dtype)"
   ]
  },
  {
   "cell_type": "code",
   "execution_count": 17,
   "id": "9336cd44",
   "metadata": {},
   "outputs": [
    {
     "name": "stdout",
     "output_type": "stream",
     "text": [
      "Data Type :  float64\n"
     ]
    }
   ],
   "source": [
    "v2 = np.array([1.1,2,3.2,4.2,5.22,67.2])\n",
    "\n",
    "print(\"Data Type : \" , v2.dtype)"
   ]
  },
  {
   "cell_type": "code",
   "execution_count": 18,
   "id": "6e7a901f",
   "metadata": {},
   "outputs": [
    {
     "name": "stdout",
     "output_type": "stream",
     "text": [
      "Data Type :  float64\n"
     ]
    }
   ],
   "source": [
    "v3 = np.array([1.1,2,3.2,4.2,5.22,67.2])\n",
    "\n",
    "print(\"Data Type : \" , v3.dtype)"
   ]
  },
  {
   "cell_type": "code",
   "execution_count": 19,
   "id": "c780cd92",
   "metadata": {},
   "outputs": [
    {
     "name": "stdout",
     "output_type": "stream",
     "text": [
      "Data Type :  <U32\n"
     ]
    }
   ],
   "source": [
    "v4 = np.array([\"a\",\"S\",1.1,2,3.2,4.2,5.22,67.2])\n",
    "\n",
    "print(\"Data Type : \" , v4.dtype)"
   ]
  },
  {
   "cell_type": "markdown",
   "id": "82e2f75f",
   "metadata": {},
   "source": [
    "# Convert any data type then use np.any_type"
   ]
  },
  {
   "cell_type": "code",
   "execution_count": 20,
   "id": "e138bba6",
   "metadata": {},
   "outputs": [
    {
     "name": "stdout",
     "output_type": "stream",
     "text": [
      "Data Type :  int8\n"
     ]
    }
   ],
   "source": [
    "b = np.array([1,2,3,4], dtype = np.int8)\n",
    "print(\"Data Type : \" , b.dtype)"
   ]
  },
  {
   "cell_type": "code",
   "execution_count": 21,
   "id": "6d45792f",
   "metadata": {},
   "outputs": [
    {
     "name": "stdout",
     "output_type": "stream",
     "text": [
      "Data Type :  float32\n",
      "[1. 2. 3. 4.]\n"
     ]
    }
   ],
   "source": [
    "b1 = np.array([1,2,3,4], dtype = \"f\") # f stand for float\n",
    "print(\"Data Type : \" , b1.dtype)\n",
    "print(b1)"
   ]
  },
  {
   "cell_type": "code",
   "execution_count": 22,
   "id": "41061d09",
   "metadata": {},
   "outputs": [
    {
     "name": "stdout",
     "output_type": "stream",
     "text": [
      "Data Type :  int32\n",
      "[1 2 3 4]\n",
      "Data Type :  float32\n",
      "[1. 2. 3. 4.]\n"
     ]
    }
   ],
   "source": [
    "b1 = np.array([1,2,3,4])\n",
    "\n",
    "new = np.float32(b1)\n",
    "\n",
    "print(\"Data Type : \" , b1.dtype)\n",
    "\n",
    "print(b1)\n",
    "\n",
    "print(\"Data Type : \" , new.dtype)\n",
    "\n",
    "print(new)"
   ]
  },
  {
   "cell_type": "code",
   "execution_count": 24,
   "id": "803aa642",
   "metadata": {},
   "outputs": [
    {
     "name": "stdout",
     "output_type": "stream",
     "text": [
      "Data Type :  int32\n",
      "[1 2 3 4]\n",
      "Data Type :  float32\n",
      "[1. 2. 3. 4.]\n",
      "Data Type :  int32\n",
      "[1 2 3 4]\n"
     ]
    }
   ],
   "source": [
    "b1 = np.array([1,2,3,4])\n",
    "\n",
    "new = np.float32(b1)\n",
    "\n",
    "new_1 = np.int_(new)\n",
    "\n",
    "print(\"Data Type : \" , b1.dtype)\n",
    "\n",
    "print(b1)\n",
    "\n",
    "print(\"Data Type : \" , new.dtype)\n",
    "\n",
    "print(new)\n",
    "\n",
    "print(\"Data Type : \" , new_1.dtype)\n",
    "\n",
    "print(new_1)"
   ]
  },
  {
   "cell_type": "code",
   "execution_count": 25,
   "id": "1415599c",
   "metadata": {},
   "outputs": [
    {
     "name": "stdout",
     "output_type": "stream",
     "text": [
      "[1 2 3 4]\n",
      "Data Type :  int32\n",
      "\n",
      "[1. 2. 3. 4.]\n",
      "Data Type :  float64\n"
     ]
    }
   ],
   "source": [
    "b2 = np.array([1,2,3,4])\n",
    "\n",
    "new_2 = b2.astype(float) #astype convert b1 data type int into float\n",
    "\n",
    "\n",
    "print(b2)\n",
    "print(\"Data Type : \" , b2.dtype)\n",
    "print()\n",
    "print(new_2)\n",
    "\n",
    "print(\"Data Type : \" , new_2.dtype)"
   ]
  },
  {
   "cell_type": "markdown",
   "id": "0ff691e5",
   "metadata": {},
   "source": [
    "# Arithmatic Opperation"
   ]
  },
  {
   "cell_type": "markdown",
   "id": "500f89da",
   "metadata": {},
   "source": [
    "# 1D Array"
   ]
  },
  {
   "cell_type": "code",
   "execution_count": 3,
   "id": "cbcb6d52",
   "metadata": {},
   "outputs": [
    {
     "name": "stdout",
     "output_type": "stream",
     "text": [
      "[6 7 8 9]\n"
     ]
    }
   ],
   "source": [
    "num1 = np.array([1,2,3,4])\n",
    "num_add = num1+5\n",
    "print(num_add)    "
   ]
  },
  {
   "cell_type": "code",
   "execution_count": 5,
   "id": "9cf146b8",
   "metadata": {},
   "outputs": [
    {
     "data": {
      "text/plain": [
       "array([[ 6,  7,  8],\n",
       "       [ 9, 10, 11],\n",
       "       [12, 13, 14]])"
      ]
     },
     "execution_count": 5,
     "metadata": {},
     "output_type": "execute_result"
    }
   ],
   "source": [
    "data = np.array([[1,2,3],\n",
    "                [4,5,6],\n",
    "                [7,8,9]])\n",
    "data + 5"
   ]
  },
  {
   "cell_type": "code",
   "execution_count": 28,
   "id": "29dfb35b",
   "metadata": {},
   "outputs": [
    {
     "name": "stdout",
     "output_type": "stream",
     "text": [
      "[ 4  6  8 10]\n"
     ]
    }
   ],
   "source": [
    "num1 = np.array([1,2,3,4])\n",
    "num2 = np.array([3,4,5,6])\n",
    "num_add = num1+num2\n",
    "print(num_add)"
   ]
  },
  {
   "cell_type": "code",
   "execution_count": 29,
   "id": "9cb25472",
   "metadata": {},
   "outputs": [
    {
     "name": "stdout",
     "output_type": "stream",
     "text": [
      "[-4 -3 -2 -1]\n"
     ]
    }
   ],
   "source": [
    "num1 = np.array([1,2,3,4])\n",
    "num_add = num1-5\n",
    "print(num_add) "
   ]
  },
  {
   "cell_type": "code",
   "execution_count": 6,
   "id": "2ddcc98c",
   "metadata": {},
   "outputs": [
    {
     "data": {
      "text/plain": [
       "array([[-4, -3, -2],\n",
       "       [-1,  0,  1],\n",
       "       [ 2,  3,  4]])"
      ]
     },
     "execution_count": 6,
     "metadata": {},
     "output_type": "execute_result"
    }
   ],
   "source": [
    "data = np.array([[1,2,3],\n",
    "                [4,5,6],\n",
    "                [7,8,9]])\n",
    "data - 5"
   ]
  },
  {
   "cell_type": "code",
   "execution_count": 30,
   "id": "3791fb06",
   "metadata": {},
   "outputs": [
    {
     "name": "stdout",
     "output_type": "stream",
     "text": [
      "[ 5 10 15 20]\n"
     ]
    }
   ],
   "source": [
    "num1 = np.array([1,2,3,4])\n",
    "num_add = num1*5\n",
    "print(num_add) "
   ]
  },
  {
   "cell_type": "code",
   "execution_count": 7,
   "id": "93f32aa6",
   "metadata": {},
   "outputs": [
    {
     "data": {
      "text/plain": [
       "array([[ 5, 10, 15],\n",
       "       [20, 25, 30],\n",
       "       [35, 40, 45]])"
      ]
     },
     "execution_count": 7,
     "metadata": {},
     "output_type": "execute_result"
    }
   ],
   "source": [
    "data = np.array([[1,2,3],\n",
    "                [4,5,6],\n",
    "                [7,8,9]])\n",
    "data * 5"
   ]
  },
  {
   "cell_type": "code",
   "execution_count": 31,
   "id": "05ee3589",
   "metadata": {},
   "outputs": [
    {
     "name": "stdout",
     "output_type": "stream",
     "text": [
      "[0.2 0.4 0.6 0.8]\n"
     ]
    }
   ],
   "source": [
    "num1 = np.array([1,2,3,4])\n",
    "num_add = num1/5\n",
    "print(num_add) "
   ]
  },
  {
   "cell_type": "code",
   "execution_count": 8,
   "id": "50741d82",
   "metadata": {},
   "outputs": [
    {
     "data": {
      "text/plain": [
       "array([[0.2, 0.4, 0.6],\n",
       "       [0.8, 1. , 1.2],\n",
       "       [1.4, 1.6, 1.8]])"
      ]
     },
     "execution_count": 8,
     "metadata": {},
     "output_type": "execute_result"
    }
   ],
   "source": [
    "data = np.array([[1,2,3],\n",
    "                [4,5,6],\n",
    "                [7,8,9]])\n",
    "data / 5"
   ]
  },
  {
   "cell_type": "code",
   "execution_count": 33,
   "id": "faf88e58",
   "metadata": {},
   "outputs": [
    {
     "name": "stdout",
     "output_type": "stream",
     "text": [
      "[1 2 0 1]\n"
     ]
    }
   ],
   "source": [
    "num1 = np.array([1,2,3,4])\n",
    "num_add = num1%3\n",
    "print(num_add) "
   ]
  },
  {
   "cell_type": "code",
   "execution_count": 9,
   "id": "18e0ab10",
   "metadata": {},
   "outputs": [
    {
     "data": {
      "text/plain": [
       "array([[1, 2, 3],\n",
       "       [4, 0, 1],\n",
       "       [2, 3, 4]], dtype=int32)"
      ]
     },
     "execution_count": 9,
     "metadata": {},
     "output_type": "execute_result"
    }
   ],
   "source": [
    "data = np.array([[1,2,3],\n",
    "                [4,5,6],\n",
    "                [7,8,9]])\n",
    "data % 5"
   ]
  },
  {
   "cell_type": "code",
   "execution_count": 34,
   "id": "1f28404f",
   "metadata": {},
   "outputs": [
    {
     "name": "stdout",
     "output_type": "stream",
     "text": [
      "[ 4  6  8 10]\n"
     ]
    }
   ],
   "source": [
    "num1 = np.array([1,2,3,4])\n",
    "num2 = np.array([3,4,5,6])\n",
    "num_add =np.add(num1,num2)\n",
    "print(num_add)"
   ]
  },
  {
   "cell_type": "code",
   "execution_count": 35,
   "id": "04db4000",
   "metadata": {},
   "outputs": [
    {
     "name": "stdout",
     "output_type": "stream",
     "text": [
      "[6 7 8 9]\n"
     ]
    }
   ],
   "source": [
    "num1 = np.array([1,2,3,4])\n",
    "num2 = np.array([3,4,5,6])\n",
    "num_add =np.add(num1,5)\n",
    "print(num_add)"
   ]
  },
  {
   "cell_type": "markdown",
   "id": "2e2b5a55",
   "metadata": {},
   "source": [
    "# 2D Array"
   ]
  },
  {
   "cell_type": "code",
   "execution_count": 43,
   "id": "3ef0d261",
   "metadata": {},
   "outputs": [
    {
     "name": "stdout",
     "output_type": "stream",
     "text": [
      "[[1 2 3 4]\n",
      " [1 2 3 4]]\n",
      "\n",
      "[[2 3 4 5]\n",
      " [3 4 5 6]]\n",
      "\n",
      "[[ 3  5  7  9]\n",
      " [ 4  6  8 10]]\n"
     ]
    }
   ],
   "source": [
    "n1 = np.array([[1,2,3,4],[1,2,3,4]])\n",
    "n2 = np.array([[2,3,4,5],[3,4,5,6]])\n",
    "\n",
    "print(n1)\n",
    "print()\n",
    "print(n2)\n",
    "n3 = np.add(n1,n2)\n",
    "print()\n",
    "print(n3)"
   ]
  },
  {
   "cell_type": "markdown",
   "id": "2b75d25a",
   "metadata": {},
   "source": [
    "# Arithmatic Function"
   ]
  },
  {
   "cell_type": "code",
   "execution_count": 45,
   "id": "7a4aaf73",
   "metadata": {},
   "outputs": [
    {
     "name": "stdout",
     "output_type": "stream",
     "text": [
      "1 0\n",
      "9 8\n"
     ]
    }
   ],
   "source": [
    "c = np.array([1,1,2,3,4,5,6,7,9,5])\n",
    "print(np.min(c),np.argmin(c))\n",
    "print(np.max(c),np.argmax(c)) # np.arg tell us the index number"
   ]
  },
  {
   "cell_type": "code",
   "execution_count": 54,
   "id": "a0887aa1",
   "metadata": {},
   "outputs": [
    {
     "name": "stdout",
     "output_type": "stream",
     "text": [
      "min : [2 4]\n",
      "max : [8 7]\n",
      "min : [2 5 6 5]\n",
      "max : [4 6 8 7]\n"
     ]
    }
   ],
   "source": [
    "vf = np.array([[2,6,8,5],[4,5,6,7]])\n",
    "print(\"min :\",np.min(vf,axis = 1)) # axis = 1 deals with row\n",
    "print(\"max :\",np.max(vf,axis = 1))\n",
    "print(\"min :\", np.min(vf,axis = 0)) # axis = 0 deals with columns\n",
    "print(\"max :\",np.max(vf,axis = 0))"
   ]
  },
  {
   "cell_type": "code",
   "execution_count": 56,
   "id": "dfa866a8",
   "metadata": {},
   "outputs": [
    {
     "name": "stdout",
     "output_type": "stream",
     "text": [
      "[2. 3. 4. 5. 6.]\n"
     ]
    }
   ],
   "source": [
    "c = np.array([4,9,16,25,36])\n",
    "print(np.sqrt(c))"
   ]
  },
  {
   "cell_type": "code",
   "execution_count": 57,
   "id": "b779b4da",
   "metadata": {},
   "outputs": [
    {
     "name": "stdout",
     "output_type": "stream",
     "text": [
      "[-0.7568025   0.41211849 -0.28790332 -0.13235175 -0.99177885]\n",
      "[-0.65364362 -0.91113026 -0.95765948  0.99120281 -0.12796369]\n"
     ]
    }
   ],
   "source": [
    "c = np.array([4,9,16,25,36])\n",
    "print(np.sin(c))\n",
    "print(np.cos(c))"
   ]
  },
  {
   "cell_type": "code",
   "execution_count": 58,
   "id": "aec75360",
   "metadata": {},
   "outputs": [
    {
     "name": "stdout",
     "output_type": "stream",
     "text": [
      "[ 1  2  4  7 11 16 22 29 38 43]\n"
     ]
    }
   ],
   "source": [
    "c = np.array([1,1,2,3,4,5,6,7,9,5])\n",
    "print(np.cumsum(c))#add each number in array in previous number"
   ]
  },
  {
   "cell_type": "markdown",
   "id": "07eedc5c",
   "metadata": {},
   "source": [
    "# Shape and Reshapping"
   ]
  },
  {
   "cell_type": "code",
   "execution_count": 60,
   "id": "f755e078",
   "metadata": {},
   "outputs": [
    {
     "name": "stdout",
     "output_type": "stream",
     "text": [
      "[[2 3 4 5]\n",
      " [3 4 5 6]]\n",
      "(2, 4)\n"
     ]
    }
   ],
   "source": [
    "var =  np.array([[2,3,4,5],[3,4,5,6]])\n",
    "print(var)\n",
    "print(var.shape)"
   ]
  },
  {
   "cell_type": "code",
   "execution_count": 66,
   "id": "43033ae3",
   "metadata": {},
   "outputs": [
    {
     "name": "stdout",
     "output_type": "stream",
     "text": [
      "[[[[2 3 4 5]]]]\n",
      "(1, 1, 1, 4)\n"
     ]
    }
   ],
   "source": [
    "var1 =  np.array([2,3,4,5] , ndmin=4)\n",
    "print(var1)\n",
    "print(var1.shape)"
   ]
  },
  {
   "cell_type": "code",
   "execution_count": 10,
   "id": "d41cc2c9",
   "metadata": {},
   "outputs": [
    {
     "name": "stdout",
     "output_type": "stream",
     "text": [
      "[ 1  2  3  4  5  6  7  8  9 10 11 12]\n",
      "1\n",
      "\n",
      "[[[ 1  2]\n",
      "  [ 3  4]\n",
      "  [ 5  6]]\n",
      "\n",
      " [[ 7  8]\n",
      "  [ 9 10]\n",
      "  [11 12]]]\n",
      "3\n",
      "\n",
      "[ 1  2  3  4  5  6  7  8  9 10 11 12]\n",
      "1\n"
     ]
    }
   ],
   "source": [
    "var2 = np.array([1,2,3,4,5,6,7,8,9,10,11,12])\n",
    "print(var2)\n",
    "print(var2.ndim)\n",
    "\n",
    "print()\n",
    "\n",
    "x = var2.reshape(2,3,2)\n",
    "print(x)\n",
    "print(x.ndim)\n",
    "\n",
    "print()\n",
    "\n",
    "one = x.reshape(-1)# convert multidimenssion into one dimenssion\n",
    "print(one)\n",
    "print(one.ndim)"
   ]
  },
  {
   "cell_type": "code",
   "execution_count": 15,
   "id": "17f0a756",
   "metadata": {},
   "outputs": [
    {
     "data": {
      "text/plain": [
       "array([[[[  0,   1,   2,   3,   4,   5,   6,   7,   8,   9],\n",
       "         [ 10,  11,  12,  13,  14,  15,  16,  17,  18,  19],\n",
       "         [ 20,  21,  22,  23,  24,  25,  26,  27,  28,  29],\n",
       "         [ 30,  31,  32,  33,  34,  35,  36,  37,  38,  39],\n",
       "         [ 40,  41,  42,  43,  44,  45,  46,  47,  48,  49],\n",
       "         [ 50,  51,  52,  53,  54,  55,  56,  57,  58,  59],\n",
       "         [ 60,  61,  62,  63,  64,  65,  66,  67,  68,  69],\n",
       "         [ 70,  71,  72,  73,  74,  75,  76,  77,  78,  79],\n",
       "         [ 80,  81,  82,  83,  84,  85,  86,  87,  88,  89],\n",
       "         [ 90,  91,  92,  93,  94,  95,  96,  97,  98,  99]],\n",
       "\n",
       "        [[100, 101, 102, 103, 104, 105, 106, 107, 108, 109],\n",
       "         [110, 111, 112, 113, 114, 115, 116, 117, 118, 119],\n",
       "         [120, 121, 122, 123, 124, 125, 126, 127, 128, 129],\n",
       "         [130, 131, 132, 133, 134, 135, 136, 137, 138, 139],\n",
       "         [140, 141, 142, 143, 144, 145, 146, 147, 148, 149],\n",
       "         [150, 151, 152, 153, 154, 155, 156, 157, 158, 159],\n",
       "         [160, 161, 162, 163, 164, 165, 166, 167, 168, 169],\n",
       "         [170, 171, 172, 173, 174, 175, 176, 177, 178, 179],\n",
       "         [180, 181, 182, 183, 184, 185, 186, 187, 188, 189],\n",
       "         [190, 191, 192, 193, 194, 195, 196, 197, 198, 199]],\n",
       "\n",
       "        [[200, 201, 202, 203, 204, 205, 206, 207, 208, 209],\n",
       "         [210, 211, 212, 213, 214, 215, 216, 217, 218, 219],\n",
       "         [220, 221, 222, 223, 224, 225, 226, 227, 228, 229],\n",
       "         [230, 231, 232, 233, 234, 235, 236, 237, 238, 239],\n",
       "         [240, 241, 242, 243, 244, 245, 246, 247, 248, 249],\n",
       "         [250, 251, 252, 253, 254, 255, 256, 257, 258, 259],\n",
       "         [260, 261, 262, 263, 264, 265, 266, 267, 268, 269],\n",
       "         [270, 271, 272, 273, 274, 275, 276, 277, 278, 279],\n",
       "         [280, 281, 282, 283, 284, 285, 286, 287, 288, 289],\n",
       "         [290, 291, 292, 293, 294, 295, 296, 297, 298, 299]]],\n",
       "\n",
       "\n",
       "       [[[300, 301, 302, 303, 304, 305, 306, 307, 308, 309],\n",
       "         [310, 311, 312, 313, 314, 315, 316, 317, 318, 319],\n",
       "         [320, 321, 322, 323, 324, 325, 326, 327, 328, 329],\n",
       "         [330, 331, 332, 333, 334, 335, 336, 337, 338, 339],\n",
       "         [340, 341, 342, 343, 344, 345, 346, 347, 348, 349],\n",
       "         [350, 351, 352, 353, 354, 355, 356, 357, 358, 359],\n",
       "         [360, 361, 362, 363, 364, 365, 366, 367, 368, 369],\n",
       "         [370, 371, 372, 373, 374, 375, 376, 377, 378, 379],\n",
       "         [380, 381, 382, 383, 384, 385, 386, 387, 388, 389],\n",
       "         [390, 391, 392, 393, 394, 395, 396, 397, 398, 399]],\n",
       "\n",
       "        [[400, 401, 402, 403, 404, 405, 406, 407, 408, 409],\n",
       "         [410, 411, 412, 413, 414, 415, 416, 417, 418, 419],\n",
       "         [420, 421, 422, 423, 424, 425, 426, 427, 428, 429],\n",
       "         [430, 431, 432, 433, 434, 435, 436, 437, 438, 439],\n",
       "         [440, 441, 442, 443, 444, 445, 446, 447, 448, 449],\n",
       "         [450, 451, 452, 453, 454, 455, 456, 457, 458, 459],\n",
       "         [460, 461, 462, 463, 464, 465, 466, 467, 468, 469],\n",
       "         [470, 471, 472, 473, 474, 475, 476, 477, 478, 479],\n",
       "         [480, 481, 482, 483, 484, 485, 486, 487, 488, 489],\n",
       "         [490, 491, 492, 493, 494, 495, 496, 497, 498, 499]],\n",
       "\n",
       "        [[500, 501, 502, 503, 504, 505, 506, 507, 508, 509],\n",
       "         [510, 511, 512, 513, 514, 515, 516, 517, 518, 519],\n",
       "         [520, 521, 522, 523, 524, 525, 526, 527, 528, 529],\n",
       "         [530, 531, 532, 533, 534, 535, 536, 537, 538, 539],\n",
       "         [540, 541, 542, 543, 544, 545, 546, 547, 548, 549],\n",
       "         [550, 551, 552, 553, 554, 555, 556, 557, 558, 559],\n",
       "         [560, 561, 562, 563, 564, 565, 566, 567, 568, 569],\n",
       "         [570, 571, 572, 573, 574, 575, 576, 577, 578, 579],\n",
       "         [580, 581, 582, 583, 584, 585, 586, 587, 588, 589],\n",
       "         [590, 591, 592, 593, 594, 595, 596, 597, 598, 599]]]])"
      ]
     },
     "execution_count": 15,
     "metadata": {},
     "output_type": "execute_result"
    }
   ],
   "source": [
    "data = np.arange(2*3*10*10).reshape(2,3,10,10)\n",
    "data"
   ]
  },
  {
   "cell_type": "markdown",
   "id": "85c7894e",
   "metadata": {},
   "source": [
    "# Broadcasting"
   ]
  },
  {
   "cell_type": "code",
   "execution_count": 80,
   "id": "e09f20a4",
   "metadata": {},
   "outputs": [
    {
     "name": "stdout",
     "output_type": "stream",
     "text": [
      "(4,)\n",
      "[1 2 3 4]\n",
      "\n",
      "(3, 1)\n",
      "[[1]\n",
      " [2]\n",
      " [3]]\n",
      "\n",
      "[[2 3 4 5]\n",
      " [3 4 5 6]\n",
      " [4 5 6 7]]\n"
     ]
    }
   ],
   "source": [
    "x = np.array([1,2,3,4])\n",
    "print(x.shape)\n",
    "print(x)\n",
    "print()\n",
    "y = np.array([[1],[2],[3]])\n",
    "print(y.shape)\n",
    "print(y)\n",
    "print()\n",
    "print(x+y)"
   ]
  },
  {
   "cell_type": "code",
   "execution_count": 85,
   "id": "7df7bb21",
   "metadata": {},
   "outputs": [
    {
     "name": "stdout",
     "output_type": "stream",
     "text": [
      "(2, 1)\n",
      "[[1]\n",
      " [2]]\n",
      "\n",
      "(2, 3)\n",
      "[[1 3 4]\n",
      " [3 4 4]]\n",
      "\n",
      "[[2 4 5]\n",
      " [5 6 6]]\n"
     ]
    }
   ],
   "source": [
    "x1 = np.array([[1],[2]])\n",
    "print(x1.shape)\n",
    "print(x1)\n",
    "print()\n",
    "\n",
    "x2 = np.array([[1,3,4],[3,4,4]])\n",
    "print(x2.shape)\n",
    "print(x2)\n",
    "print()\n",
    "\n",
    "print(x1+x2)"
   ]
  },
  {
   "cell_type": "markdown",
   "id": "d26a8188",
   "metadata": {},
   "source": [
    "# Indexing"
   ]
  },
  {
   "cell_type": "code",
   "execution_count": 5,
   "id": "938bf49a",
   "metadata": {},
   "outputs": [
    {
     "name": "stdout",
     "output_type": "stream",
     "text": [
      "[1 2 3 4]\n",
      "1\n",
      "4\n"
     ]
    }
   ],
   "source": [
    "var3 = np.array([1,2,3,4])\n",
    "print(var3)\n",
    "print(var3.ndim)  #ndim tell us the dimenssion of array\n",
    "print(var3[3])"
   ]
  },
  {
   "cell_type": "code",
   "execution_count": 28,
   "id": "a4a4ca26",
   "metadata": {},
   "outputs": [
    {
     "name": "stdout",
     "output_type": "stream",
     "text": [
      "[[1 2 3 4]\n",
      " [4 5 6 7]\n",
      " [2 3 4 5]]\n",
      "2\n",
      "3\n",
      "7\n",
      "5\n"
     ]
    }
   ],
   "source": [
    "var4 = np.array([[1,2,3,4],[4,5,6,7],[2,3,4,5]])\n",
    "print(var4)\n",
    "print(var4.ndim)\n",
    "print(var4[0,2])\n",
    "print(var4[1,3])\n",
    "print(var4[2,3])"
   ]
  },
  {
   "cell_type": "code",
   "execution_count": 19,
   "id": "0a981a2c",
   "metadata": {},
   "outputs": [
    {
     "name": "stdout",
     "output_type": "stream",
     "text": [
      "[[[4 5 6 7]\n",
      "  [6 4 2 4]\n",
      "  [3 4 5 6]]]\n",
      "3\n",
      "2\n",
      "5\n"
     ]
    }
   ],
   "source": [
    "var5 = np.array([[[4,5,6,7],[6,4,2,4],[3,4,5,6]]])\n",
    "print(var5)\n",
    "print(var5.ndim)\n",
    "print(var5[0,1,2])\n",
    "print(var5[0,2,2])"
   ]
  },
  {
   "cell_type": "code",
   "execution_count": 21,
   "id": "5712d850",
   "metadata": {},
   "outputs": [
    {
     "name": "stdout",
     "output_type": "stream",
     "text": [
      "[[[4 5 6 7]\n",
      "  [6 4 2 4]\n",
      "  [3 4 5 6]\n",
      "  [3 5 6 7]]]\n",
      "3\n",
      "2\n",
      "5\n",
      "5\n"
     ]
    }
   ],
   "source": [
    "var5 = np.array([[[4,5,6,7],[6,4,2,4],[3,4,5,6],[3,5,6,7]]])\n",
    "print(var5)\n",
    "print(var5.ndim)\n",
    "print(var5[0,1,2])\n",
    "print(var5[0,2,2])\n",
    "print(var5[0,3,1])"
   ]
  },
  {
   "cell_type": "markdown",
   "id": "4768821d",
   "metadata": {},
   "source": [
    "# Slicing"
   ]
  },
  {
   "cell_type": "code",
   "execution_count": 27,
   "id": "a423e250",
   "metadata": {},
   "outputs": [
    {
     "name": "stdout",
     "output_type": "stream",
     "text": [
      " 2 to 7 :  [3 4 5 6 7]\n",
      " Start to 7 :  [1 2 3 4 5 6 7]\n",
      " Start to end with Step 2 : [1 3 5 7 9]\n",
      " 2 to end :  [3 4 5 6 7 8 9]\n"
     ]
    }
   ],
   "source": [
    "var6 = np.array([1,2,3,4,5,6,7,8,9])\n",
    "print(\" 2 to 7 : \" ,var6[2:7])\n",
    "print(\" Start to 7 : \", var6[:7])\n",
    "print(\" Start to end with Step 2 :\" , var6[: : 2])\n",
    "print(\" 2 to end : \", var6[2 :])"
   ]
  },
  {
   "cell_type": "code",
   "execution_count": 30,
   "id": "ad1d00a1",
   "metadata": {},
   "outputs": [
    {
     "name": "stdout",
     "output_type": "stream",
     "text": [
      "[4 3 2]\n"
     ]
    }
   ],
   "source": [
    "var6 = np.array([[3,4,5,6],[6,4,3,2]])\n",
    "print(var6[1,1:4])"
   ]
  },
  {
   "cell_type": "code",
   "execution_count": 31,
   "id": "511965ef",
   "metadata": {},
   "outputs": [
    {
     "name": "stdout",
     "output_type": "stream",
     "text": [
      "[5 6 7]\n"
     ]
    }
   ],
   "source": [
    "var6 = np.array([[[1,2,3,4],[4,5,6,7],[6,3,3,2]]])\n",
    "print(var6[0,1,1:4])"
   ]
  },
  {
   "cell_type": "code",
   "execution_count": 23,
   "id": "fc1f3d45",
   "metadata": {},
   "outputs": [
    {
     "name": "stdout",
     "output_type": "stream",
     "text": [
      "[3 6 6]\n",
      "[1 4 3]\n"
     ]
    }
   ],
   "source": [
    "data = np.array([[1,2,3,4],\n",
    "                [4,5,6,7],\n",
    "               [3,4,6,7]])\n",
    "print(data[:,2])\n",
    "print(data[:,0])"
   ]
  },
  {
   "cell_type": "code",
   "execution_count": 29,
   "id": "eed7091b",
   "metadata": {},
   "outputs": [
    {
     "name": "stdout",
     "output_type": "stream",
     "text": [
      "[[ 0  1  2  3  4  5  6  7  8  9]\n",
      " [10 11 12 13 14 15 16 17 18 19]\n",
      " [20 21 22 23 24 25 26 27 28 29]\n",
      " [30 31 32 33 34 35 36 37 38 39]\n",
      " [40 41 42 43 44 45 46 47 48 49]\n",
      " [50 51 52 53 54 55 56 57 58 59]\n",
      " [60 61 62 63 64 65 66 67 68 69]\n",
      " [70 71 72 73 74 75 76 77 78 79]\n",
      " [80 81 82 83 84 85 86 87 88 89]\n",
      " [90 91 92 93 94 95 96 97 98 99]]\n",
      "\n",
      "[[55 56 57 58 59]\n",
      " [65 66 67 68 69]\n",
      " [75 76 77 78 79]\n",
      " [85 86 87 88 89]\n",
      " [95 96 97 98 99]]\n"
     ]
    }
   ],
   "source": [
    "data = np.arange(10*10).reshape(10,10)\n",
    "print(data)\n",
    "print()\n",
    "print(data[5:,5:])"
   ]
  },
  {
   "cell_type": "code",
   "execution_count": 30,
   "id": "d43cc9d2",
   "metadata": {},
   "outputs": [
    {
     "name": "stdout",
     "output_type": "stream",
     "text": [
      "[[ 0  1  2  3  4  5  6  7  8  9]\n",
      " [10 11 12 13 14 15 16 17 18 19]\n",
      " [20 21 22 23 24 25 26 27 28 29]\n",
      " [30 31 32 33 34 35 36 37 38 39]\n",
      " [40 41 42 43 44 45 46 47 48 49]\n",
      " [50 51 52 53 54 55 56 57 58 59]\n",
      " [60 61 62 63 64 65 66 67 68 69]\n",
      " [70 71 72 73 74 75 76 77 78 79]\n",
      " [80 81 82 83 84 85 86 87 88 89]\n",
      " [90 91 92 93 94 95 96 97 98 99]]\n",
      "\n",
      "[[22 23 24 25 26 27]\n",
      " [32 33 34 35 36 37]\n",
      " [42 43 44 45 46 47]\n",
      " [52 53 54 55 56 57]\n",
      " [62 63 64 65 66 67]\n",
      " [72 73 74 75 76 77]]\n"
     ]
    }
   ],
   "source": [
    "data = np.arange(10*10).reshape(10,10)\n",
    "print(data)\n",
    "print()\n",
    "print(data[2:-2,2:-2])"
   ]
  },
  {
   "cell_type": "markdown",
   "id": "f3774456",
   "metadata": {},
   "source": [
    "# Fancy Slicing"
   ]
  },
  {
   "cell_type": "code",
   "execution_count": 3,
   "id": "4f493dcd",
   "metadata": {},
   "outputs": [
    {
     "data": {
      "text/plain": [
       "array([6, 5])"
      ]
     },
     "execution_count": 3,
     "metadata": {},
     "output_type": "execute_result"
    }
   ],
   "source": [
    "a = np.array([2,3,4,6,7,9,5])\n",
    "a[[3,6]] # pass any index it will return"
   ]
  },
  {
   "cell_type": "code",
   "execution_count": 4,
   "id": "8f7ca44f",
   "metadata": {},
   "outputs": [
    {
     "data": {
      "text/plain": [
       "array([7, 4])"
      ]
     },
     "execution_count": 4,
     "metadata": {},
     "output_type": "execute_result"
    }
   ],
   "source": [
    "a = np.array([2,3,4,6,7,9,5])\n",
    "a[[-3,2]] # pass any index it will return"
   ]
  },
  {
   "cell_type": "code",
   "execution_count": 5,
   "id": "6df09908",
   "metadata": {},
   "outputs": [
    {
     "data": {
      "text/plain": [
       "array([7, 4, 4, 6, 7, 9, 5])"
      ]
     },
     "execution_count": 5,
     "metadata": {},
     "output_type": "execute_result"
    }
   ],
   "source": [
    "a = np.array([2,3,4,6,7,9,5])\n",
    "a[[-3,2,2,3,4,5,6]] # pass any index it will return  if pass same index many time it will return all the time"
   ]
  },
  {
   "cell_type": "markdown",
   "id": "19bce649",
   "metadata": {},
   "source": [
    "# Iteration in Array"
   ]
  },
  {
   "cell_type": "code",
   "execution_count": 40,
   "id": "26846087",
   "metadata": {},
   "outputs": [
    {
     "name": "stdout",
     "output_type": "stream",
     "text": [
      "[1 2 3 4 5 6 7 8 9]\n",
      "1\n",
      "\n",
      "1\n",
      "2\n",
      "3\n",
      "4\n",
      "5\n",
      "6\n",
      "7\n",
      "8\n",
      "9\n"
     ]
    }
   ],
   "source": [
    "num = np.array([1,2,3,4,5,6,7,8,9])\n",
    "print(num)\n",
    "print(num.ndim)\n",
    "print()\n",
    "\n",
    "for i in np.nditer(num):\n",
    "    print(i)"
   ]
  },
  {
   "cell_type": "code",
   "execution_count": 42,
   "id": "2fcc474e",
   "metadata": {},
   "outputs": [
    {
     "name": "stdout",
     "output_type": "stream",
     "text": [
      "[[ 1  2  3  4  5  6  7  8  9]\n",
      " [ 5  4  6  7  4  2 21 34  4]]\n",
      "2\n",
      "\n",
      "1\n",
      "2\n",
      "3\n",
      "4\n",
      "5\n",
      "6\n",
      "7\n",
      "8\n",
      "9\n",
      "5\n",
      "4\n",
      "6\n",
      "7\n",
      "4\n",
      "2\n",
      "21\n",
      "34\n",
      "4\n"
     ]
    }
   ],
   "source": [
    "num = np.array([[1,2,3,4,5,6,7,8,9],[5,4,6,7,4,2,21,34,4]])\n",
    "print(num)\n",
    "print(num.ndim)\n",
    "print()\n",
    "\n",
    "for i in np.nditer(num):# np.nditer iterate the array\n",
    "    print(i)"
   ]
  },
  {
   "cell_type": "code",
   "execution_count": 46,
   "id": "4ea0b1ad",
   "metadata": {},
   "outputs": [
    {
     "name": "stdout",
     "output_type": "stream",
     "text": [
      "[[ 1  2  3  4  5  6  7  8  9]\n",
      " [ 5  4  6  7  4  2 21 34  4]]\n",
      "2\n",
      "\n",
      "(0, 0)\n",
      "(0, 1)\n",
      "(0, 2)\n",
      "(0, 3)\n",
      "(0, 4)\n",
      "(0, 5)\n",
      "(0, 6)\n",
      "(0, 7)\n",
      "(0, 8)\n",
      "(1, 0)\n",
      "(1, 1)\n",
      "(1, 2)\n",
      "(1, 3)\n",
      "(1, 4)\n",
      "(1, 5)\n",
      "(1, 6)\n",
      "(1, 7)\n",
      "(1, 8)\n"
     ]
    }
   ],
   "source": [
    "num = np.array([[1,2,3,4,5,6,7,8,9],[5,4,6,7,4,2,21,34,4]])\n",
    "print(num)\n",
    "print(num.ndim)\n",
    "print()\n",
    "\n",
    "for i, d in np.ndenumerate(num):# np.ndenumerate iterate the array and also give index number\n",
    "    print(i)"
   ]
  },
  {
   "cell_type": "markdown",
   "id": "4ec99ffc",
   "metadata": {},
   "source": [
    "# Copy and View"
   ]
  },
  {
   "cell_type": "code",
   "execution_count": 47,
   "id": "5816061c",
   "metadata": {},
   "outputs": [
    {
     "name": "stdout",
     "output_type": "stream",
     "text": [
      "[1 2 3 4 5]\n",
      "[1 2 3 4 5]\n"
     ]
    }
   ],
   "source": [
    "var1 = np.array([1,2,3,4,5])\n",
    "print(var1)\n",
    "\n",
    "co= var1.copy()# print orignal array\n",
    "print(co)"
   ]
  },
  {
   "cell_type": "code",
   "execution_count": 49,
   "id": "f7ae2f96",
   "metadata": {},
   "outputs": [
    {
     "name": "stdout",
     "output_type": "stream",
     "text": [
      "[1 2 3 4 5]\n",
      "\n",
      "[ 1 40  3  4  5]\n",
      "[1 2 3 4 5]\n"
     ]
    }
   ],
   "source": [
    "var1 = np.array([1,2,3,4,5])\n",
    "print(var1)\n",
    "print()\n",
    "co= var1.copy()# print orignal array\n",
    "var1[1]= 40 # if we change an array then print co it cannot change their array\n",
    "print(var1)\n",
    "print(co)"
   ]
  },
  {
   "cell_type": "code",
   "execution_count": 50,
   "id": "829c200e",
   "metadata": {},
   "outputs": [
    {
     "name": "stdout",
     "output_type": "stream",
     "text": [
      "[1 2 3 4 5]\n",
      "[1 2 3 4 5]\n"
     ]
    }
   ],
   "source": [
    "var1 = np.array([1,2,3,4,5])\n",
    "print(var1)\n",
    "\n",
    "vi= var1.view()# print orignal array\n",
    "print(vi)"
   ]
  },
  {
   "cell_type": "code",
   "execution_count": 51,
   "id": "0e157625",
   "metadata": {},
   "outputs": [
    {
     "name": "stdout",
     "output_type": "stream",
     "text": [
      "[1 2 3 4 5]\n",
      "\n",
      "[ 1 40  3  4  5]\n",
      "[ 1 40  3  4  5]\n"
     ]
    }
   ],
   "source": [
    "var1 = np.array([1,2,3,4,5])\n",
    "print(var1)\n",
    "print()\n",
    "vi= var1.view()# print orignal array\n",
    "var1[1]= 40 # if we change an array then print vi it will change their array and print a new array\n",
    "print(var1)\n",
    "print(vi)"
   ]
  },
  {
   "cell_type": "markdown",
   "id": "1b65dbf5",
   "metadata": {},
   "source": [
    "# Size"
   ]
  },
  {
   "cell_type": "code",
   "execution_count": 17,
   "id": "d5eab005",
   "metadata": {},
   "outputs": [
    {
     "name": "stdout",
     "output_type": "stream",
     "text": [
      "12\n"
     ]
    }
   ],
   "source": [
    "data =  np.array([[1,2,3,4],\n",
    "                 [4,5,3,5],\n",
    "                 [3,4,56,6]])\n",
    "print(data.size)"
   ]
  },
  {
   "cell_type": "markdown",
   "id": "fc347273",
   "metadata": {},
   "source": [
    "# Sorting"
   ]
  },
  {
   "cell_type": "code",
   "execution_count": 42,
   "id": "c4938d71",
   "metadata": {},
   "outputs": [
    {
     "name": "stdout",
     "output_type": "stream",
     "text": [
      "[ 23   4 578  53  68  78   4  36  89   6]\n"
     ]
    }
   ],
   "source": [
    "d = np.array([23,4,578,53,68,78,4,36,89,6])\n",
    "print(d)"
   ]
  },
  {
   "cell_type": "code",
   "execution_count": 43,
   "id": "f4a211d2",
   "metadata": {},
   "outputs": [
    {
     "data": {
      "text/plain": [
       "array([  4,   4,   6,  23,  36,  53,  68,  78,  89, 578])"
      ]
     },
     "execution_count": 43,
     "metadata": {},
     "output_type": "execute_result"
    }
   ],
   "source": [
    "np.sort(d)"
   ]
  },
  {
   "cell_type": "code",
   "execution_count": 45,
   "id": "0d26a3d1",
   "metadata": {},
   "outputs": [
    {
     "data": {
      "text/plain": [
       "array([1, 6, 9, 0, 7, 3, 4, 5, 8, 2], dtype=int64)"
      ]
     },
     "execution_count": 45,
     "metadata": {},
     "output_type": "execute_result"
    }
   ],
   "source": [
    "np.argsort(d) # sort according to smallest index\n",
    "\n",
    "#np.argsort  print index number from smaller to bigger"
   ]
  },
  {
   "cell_type": "markdown",
   "id": "571c6e89",
   "metadata": {},
   "source": [
    "# Concetenation"
   ]
  },
  {
   "cell_type": "markdown",
   "id": "85f8bdfa",
   "metadata": {},
   "source": [
    "# Join Array"
   ]
  },
  {
   "cell_type": "code",
   "execution_count": 53,
   "id": "c63273e4",
   "metadata": {},
   "outputs": [
    {
     "name": "stdout",
     "output_type": "stream",
     "text": [
      "[ 2  3  4 56  6  4  5  3 21  1]\n"
     ]
    }
   ],
   "source": [
    "f = np.array([2,3,4,56,6])\n",
    "g = np.array([4,5,3,21,1])\n",
    "print(np.concatenate([f,g]))\n",
    "\n"
   ]
  },
  {
   "cell_type": "code",
   "execution_count": 51,
   "id": "37cb5950",
   "metadata": {},
   "outputs": [
    {
     "name": "stdout",
     "output_type": "stream",
     "text": [
      "[[ 2  3  4 56  6]\n",
      " [ 4  5  3 21  1]]\n"
     ]
    }
   ],
   "source": [
    "f = np.array([2,3,4,56,6])\n",
    "g = np.array([4,5,3,21,1])\n",
    "print(np.vstack([f,g])) # vertical join"
   ]
  },
  {
   "cell_type": "code",
   "execution_count": 52,
   "id": "67d8f797",
   "metadata": {},
   "outputs": [
    {
     "name": "stdout",
     "output_type": "stream",
     "text": [
      "[ 2  3  4 56  6  4  5  3 21  1]\n"
     ]
    }
   ],
   "source": [
    "f = np.array([2,3,4,56,6])\n",
    "g = np.array([4,5,3,21,1])\n",
    "print(np.hstack([f,g])) # horizontal join"
   ]
  },
  {
   "cell_type": "code",
   "execution_count": 54,
   "id": "6cda8e18",
   "metadata": {},
   "outputs": [
    {
     "data": {
      "text/plain": [
       "array([[ 2,  3,  4, 56,  6],\n",
       "       [ 4,  5,  3, 21,  1]])"
      ]
     },
     "execution_count": 54,
     "metadata": {},
     "output_type": "execute_result"
    }
   ],
   "source": [
    "f = np.array([2,3,4,56,6])\n",
    "g = np.array([4,5,3,21,1])\n",
    "np.stack([f,g],axis = 0) #axis=0 merge column"
   ]
  },
  {
   "cell_type": "code",
   "execution_count": 3,
   "id": "b2aa8044",
   "metadata": {},
   "outputs": [
    {
     "data": {
      "text/plain": [
       "array([[ 2,  4],\n",
       "       [ 3,  5],\n",
       "       [ 4,  3],\n",
       "       [56, 21],\n",
       "       [ 6,  1]])"
      ]
     },
     "execution_count": 3,
     "metadata": {},
     "output_type": "execute_result"
    }
   ],
   "source": [
    "f = np.array([2,3,4,56,6])\n",
    "g = np.array([4,5,3,21,1])\n",
    "np.stack([f,g],axis = 1) #axis =1 merge rows"
   ]
  },
  {
   "cell_type": "markdown",
   "id": "5b99052f",
   "metadata": {},
   "source": [
    "# Split Array"
   ]
  },
  {
   "cell_type": "code",
   "execution_count": 7,
   "id": "2b70bf86",
   "metadata": {},
   "outputs": [
    {
     "name": "stdout",
     "output_type": "stream",
     "text": [
      "[1 2 3 4 5 6 7 8 0]\n",
      "[array([1, 2, 3]), array([4, 5, 6]), array([7, 8, 0])]\n"
     ]
    }
   ],
   "source": [
    "data = np.array([1,2,3,4,5,6,7,8,0])\n",
    "print(data)\n",
    "ar = np.array_split(data,3)\n",
    "print(ar)"
   ]
  },
  {
   "cell_type": "code",
   "execution_count": 8,
   "id": "2c9b874b",
   "metadata": {},
   "outputs": [
    {
     "name": "stdout",
     "output_type": "stream",
     "text": [
      "[[1 2 3 4]\n",
      " [5 6 7 8]\n",
      " [2 5 6 7]]\n",
      "[array([[1, 2, 3, 4]]), array([[5, 6, 7, 8]]), array([[2, 5, 6, 7]])]\n"
     ]
    }
   ],
   "source": [
    "data = np.array([[1,2,3,4],[5,6,7,8],[2,5,6,7]])\n",
    "print(data)\n",
    "ar = np.array_split(data,3)\n",
    "print(ar)"
   ]
  },
  {
   "cell_type": "markdown",
   "id": "30c5aaa1",
   "metadata": {},
   "source": [
    "# Search"
   ]
  },
  {
   "cell_type": "code",
   "execution_count": 10,
   "id": "fa99b91e",
   "metadata": {},
   "outputs": [
    {
     "name": "stdout",
     "output_type": "stream",
     "text": [
      "(array([1, 9], dtype=int64),)\n"
     ]
    }
   ],
   "source": [
    "a = np.array([1,2,3,4,5,6,78,54,32,2])\n",
    "b= np.where(a==2) # where search the value and return its index\n",
    "print(b)"
   ]
  },
  {
   "cell_type": "code",
   "execution_count": 15,
   "id": "e2e3c73c",
   "metadata": {},
   "outputs": [
    {
     "data": {
      "text/plain": [
       "5"
      ]
     },
     "execution_count": 15,
     "metadata": {},
     "output_type": "execute_result"
    }
   ],
   "source": [
    "d =  np.array([1,2,4,3,4,7,8,9,8,9])\n",
    "np.searchsorted(d,5) # np.searchsorted tell the value index in where it will placed\n",
    "                     # it will count index from left to right   "
   ]
  },
  {
   "cell_type": "code",
   "execution_count": 19,
   "id": "b45ad86c",
   "metadata": {},
   "outputs": [
    {
     "data": {
      "text/plain": [
       "4"
      ]
     },
     "execution_count": 19,
     "metadata": {},
     "output_type": "execute_result"
    }
   ],
   "source": [
    "d =  np.array([1,2,3,4,7,8,9,7,4,9])\n",
    "np.searchsorted(d, 5 , side = \"right\")"
   ]
  },
  {
   "cell_type": "code",
   "execution_count": 20,
   "id": "ac485507",
   "metadata": {},
   "outputs": [
    {
     "data": {
      "text/plain": [
       "array([2, 4, 5], dtype=int64)"
      ]
     },
     "execution_count": 20,
     "metadata": {},
     "output_type": "execute_result"
    }
   ],
   "source": [
    "d =  np.array([1,2,34,5,6,7,8,9])\n",
    "np.searchsorted(d, [4,5,6] , side = \"right\")\n"
   ]
  },
  {
   "cell_type": "code",
   "execution_count": 21,
   "id": "362d75af",
   "metadata": {},
   "outputs": [
    {
     "data": {
      "text/plain": [
       "array([2, 3, 4, 4, 6, 6, 7, 7])"
      ]
     },
     "execution_count": 21,
     "metadata": {},
     "output_type": "execute_result"
    }
   ],
   "source": [
    "d = np.array([3,4,6,7,2,4,6,7])\n",
    "np.sort(d)"
   ]
  },
  {
   "cell_type": "code",
   "execution_count": 23,
   "id": "4484eed2",
   "metadata": {},
   "outputs": [
    {
     "data": {
      "text/plain": [
       "array([[ 1,  2,  3,  4],\n",
       "       [ 5,  6,  7,  8],\n",
       "       [ 2,  6,  7, 65]])"
      ]
     },
     "execution_count": 23,
     "metadata": {},
     "output_type": "execute_result"
    }
   ],
   "source": [
    "data = np.array([[1,4,2,3],[6,5,8,7],[2,65,6,7]])\n",
    "np.sort(data)"
   ]
  },
  {
   "cell_type": "markdown",
   "id": "89f43e83",
   "metadata": {},
   "source": [
    "# Filter Array"
   ]
  },
  {
   "cell_type": "code",
   "execution_count": 25,
   "id": "40a52c87",
   "metadata": {},
   "outputs": [
    {
     "name": "stdout",
     "output_type": "stream",
     "text": [
      "['a' 'f']\n"
     ]
    }
   ],
   "source": [
    "d= np.array([\"a\",\"d\",\"f\",\"g\"])\n",
    "e = [True,False,True,False]\n",
    "m = d[e]\n",
    "print(m)"
   ]
  },
  {
   "cell_type": "markdown",
   "id": "3fe41a21",
   "metadata": {},
   "source": [
    "# np.in1d"
   ]
  },
  {
   "cell_type": "code",
   "execution_count": 56,
   "id": "087d36f1",
   "metadata": {},
   "outputs": [
    {
     "data": {
      "text/plain": [
       "array([ 1,  2,  3,  4,  5,  6,  7,  8,  9, 10])"
      ]
     },
     "execution_count": 56,
     "metadata": {},
     "output_type": "execute_result"
    }
   ],
   "source": [
    "bank_cnic = np.arange(1,11)\n",
    "bank_cnic"
   ]
  },
  {
   "cell_type": "code",
   "execution_count": 57,
   "id": "78cb0793",
   "metadata": {},
   "outputs": [
    {
     "data": {
      "text/plain": [
       "array([ 2, 22,  3, 44,  3,  9, 56, 77, 78])"
      ]
     },
     "execution_count": 57,
     "metadata": {},
     "output_type": "execute_result"
    }
   ],
   "source": [
    "state_bank = np.array([2,22,3,44,3,9,56,77,78])\n",
    "state_bank"
   ]
  },
  {
   "cell_type": "code",
   "execution_count": 58,
   "id": "dfd8ca65",
   "metadata": {},
   "outputs": [
    {
     "data": {
      "text/plain": [
       "array([ True, False,  True, False,  True,  True, False, False, False])"
      ]
     },
     "execution_count": 58,
     "metadata": {},
     "output_type": "execute_result"
    }
   ],
   "source": [
    "np.in1d(state_bank,bank_cnic)"
   ]
  },
  {
   "cell_type": "code",
   "execution_count": 59,
   "id": "5efd3e65",
   "metadata": {},
   "outputs": [
    {
     "data": {
      "text/plain": [
       "array([2, 3, 3, 9])"
      ]
     },
     "execution_count": 59,
     "metadata": {},
     "output_type": "execute_result"
    }
   ],
   "source": [
    "state_bank[np.in1d(state_bank,bank_cnic)]"
   ]
  },
  {
   "cell_type": "code",
   "execution_count": 60,
   "id": "7643a101",
   "metadata": {},
   "outputs": [
    {
     "data": {
      "text/plain": [
       "array([2, 3, 9])"
      ]
     },
     "execution_count": 60,
     "metadata": {},
     "output_type": "execute_result"
    }
   ],
   "source": [
    "np.intersect1d(state_bank,bank_cnic)"
   ]
  },
  {
   "cell_type": "code",
   "execution_count": 26,
   "id": "36cc090f",
   "metadata": {},
   "outputs": [
    {
     "name": "stdout",
     "output_type": "stream",
     "text": [
      "['A' 'B' 'C' 'D' 'E' 'F' 'G' 'H' 'I' 'J' 'K' 'L' 'M' 'N' 'O' 'P' 'Q' 'R'\n",
      " 'S' 'T' 'U' 'V' 'W' 'X' 'Y' 'Z']\n"
     ]
    }
   ],
   "source": [
    "a= np.array([chr(i) for i in range(65,91)],dtype = str)\n",
    "print(a)"
   ]
  },
  {
   "cell_type": "code",
   "execution_count": 27,
   "id": "b1fbb8a2",
   "metadata": {},
   "outputs": [
    {
     "name": "stdout",
     "output_type": "stream",
     "text": [
      "['A' 'B' 'C' 'D' 'E' 'F' 'G' 'H' 'I' 'J' 'K' 'L' 'M' 'N' 'O' 'P' 'Q' 'R'\n",
      " 'S' 'T' 'U' 'V' 'W' 'X' 'Y' 'Z']\n"
     ]
    }
   ],
   "source": [
    "bank_data = a\n",
    "print(a)"
   ]
  },
  {
   "cell_type": "code",
   "execution_count": 31,
   "id": "e546e2bd",
   "metadata": {},
   "outputs": [],
   "source": [
    "state_bank = np.array(['A',\"G\",'a','f','G',\"J\"])\n"
   ]
  },
  {
   "cell_type": "code",
   "execution_count": 32,
   "id": "c2a42481",
   "metadata": {},
   "outputs": [
    {
     "data": {
      "text/plain": [
       "array([ True,  True, False, False,  True,  True])"
      ]
     },
     "execution_count": 32,
     "metadata": {},
     "output_type": "execute_result"
    }
   ],
   "source": [
    "np.in1d(state_bank,bank_data)"
   ]
  },
  {
   "cell_type": "code",
   "execution_count": 33,
   "id": "188d2b3d",
   "metadata": {},
   "outputs": [
    {
     "data": {
      "text/plain": [
       "array(['A', 'G', 'J'], dtype='<U1')"
      ]
     },
     "execution_count": 33,
     "metadata": {},
     "output_type": "execute_result"
    }
   ],
   "source": [
    "np.intersect1d(state_bank,bank_data)"
   ]
  },
  {
   "cell_type": "code",
   "execution_count": 52,
   "id": "5942f50f",
   "metadata": {},
   "outputs": [
    {
     "name": "stdout",
     "output_type": "stream",
     "text": [
      "['a' 'g' 'a' 'f' 'g' 'j']\n"
     ]
    }
   ],
   "source": [
    "state_bank = np.array(list(map(str.lower , state_bank)))\n",
    "print(state_bank)"
   ]
  },
  {
   "cell_type": "code",
   "execution_count": 38,
   "id": "71fc6220",
   "metadata": {},
   "outputs": [],
   "source": [
    "bank_data = np.array(list(map(str.lower , bank_data)))"
   ]
  },
  {
   "cell_type": "code",
   "execution_count": 40,
   "id": "8ca64e77",
   "metadata": {},
   "outputs": [
    {
     "data": {
      "text/plain": [
       "array([ True,  True,  True,  True,  True,  True])"
      ]
     },
     "execution_count": 40,
     "metadata": {},
     "output_type": "execute_result"
    }
   ],
   "source": [
    "np.in1d(state_bank,bank_data)"
   ]
  },
  {
   "cell_type": "code",
   "execution_count": 39,
   "id": "e5eb4d93",
   "metadata": {},
   "outputs": [
    {
     "data": {
      "text/plain": [
       "array(['a', 'f', 'g', 'j'], dtype='<U1')"
      ]
     },
     "execution_count": 39,
     "metadata": {},
     "output_type": "execute_result"
    }
   ],
   "source": [
    "np.intersect1d(state_bank,bank_data)"
   ]
  },
  {
   "cell_type": "markdown",
   "id": "96a16238",
   "metadata": {},
   "source": [
    "# Handel Issue like space,upper and lower letter"
   ]
  },
  {
   "cell_type": "code",
   "execution_count": 47,
   "id": "b7928a68",
   "metadata": {},
   "outputs": [
    {
     "data": {
      "text/plain": [
       "'pakistan zinda bad'"
      ]
     },
     "execution_count": 47,
     "metadata": {},
     "output_type": "execute_result"
    }
   ],
   "source": [
    "def pre_processing(txt):\n",
    "    txt = str(txt)\n",
    "    txt = txt.lower()\n",
    "    txt = txt.strip() # sttrip remove space from start and end of the line\n",
    "    return txt\n",
    "pre_processing(\"     PakisTan Zinda BAd    \")"
   ]
  },
  {
   "cell_type": "code",
   "execution_count": 50,
   "id": "097a0cc6",
   "metadata": {},
   "outputs": [
    {
     "data": {
      "text/plain": [
       "'pakistan zinda bad'"
      ]
     },
     "execution_count": 50,
     "metadata": {},
     "output_type": "execute_result"
    }
   ],
   "source": [
    "import re\n",
    "def pre_processing(txt):\n",
    "    txt = str(txt)\n",
    "    txt = txt.lower()\n",
    "    txt = txt.strip() # sttrip remove space from start and end of the line\n",
    "    txt = re.sub(\"(2,100)\",\" \" ,txt) # remove space 2 0r 100 with in a txt it will remove\n",
    "    return txt\n",
    "pre_processing(\"     PakisTan Zinda BAd    \")"
   ]
  },
  {
   "cell_type": "code",
   "execution_count": 53,
   "id": "f791aa56",
   "metadata": {},
   "outputs": [
    {
     "name": "stdout",
     "output_type": "stream",
     "text": [
      "['a' 'g' 'a' 'f' 'g' 'j']\n"
     ]
    }
   ],
   "source": [
    "state_bank = np.array(list(map(pre_processing , state_bank)))\n",
    "print(state_bank)"
   ]
  },
  {
   "cell_type": "code",
   "execution_count": null,
   "id": "ce778a9f",
   "metadata": {},
   "outputs": [],
   "source": []
  }
 ],
 "metadata": {
  "kernelspec": {
   "display_name": "Python 3 (ipykernel)",
   "language": "python",
   "name": "python3"
  },
  "language_info": {
   "codemirror_mode": {
    "name": "ipython",
    "version": 3
   },
   "file_extension": ".py",
   "mimetype": "text/x-python",
   "name": "python",
   "nbconvert_exporter": "python",
   "pygments_lexer": "ipython3",
   "version": "3.9.12"
  }
 },
 "nbformat": 4,
 "nbformat_minor": 5
}
